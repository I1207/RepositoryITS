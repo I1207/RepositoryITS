{
 "cells": [
  {
   "cell_type": "code",
   "execution_count": 61,
   "metadata": {},
   "outputs": [],
   "source": [
    "from selenium import webdriver\n",
    "from selenium.webdriver.edge.service import Service\n",
    "from webdriver_manager.microsoft import EdgeChromiumDriverManager\n",
    "from selenium.webdriver.support.wait import WebDriverWait\n",
    "\n",
    "from datetime import datetime\n",
    "import time\n",
    "import csv\n",
    "import pandas"
   ]
  },
  {
   "cell_type": "code",
   "execution_count": 62,
   "metadata": {},
   "outputs": [],
   "source": [
    "#get browser, maximise window, open web page\n",
    "\n",
    "browser = webdriver.Edge(service=Service(EdgeChromiumDriverManager().install()))\n",
    "browser.maximize_window()\n",
    "\n",
    "browser.get('https://www.tripadvisor.com/Hotel_Review-g187849-d2340336-Reviews-Armani_Hotel-Milan_Lombardy.html')"
   ]
  },
  {
   "cell_type": "code",
   "execution_count": 63,
   "metadata": {},
   "outputs": [],
   "source": [
    "#waiting timeout 3 seconds for cookies button,find lambda expression equal to id inside HTML code, then click\n",
    "\n",
    "cookies_wait = WebDriverWait(browser,timeout= 3)\n",
    "#browser.find_element()\n",
    "cookies_accept = cookies_wait.until(lambda b: b.find_element('xpath', '//*[@id=\"onetrust-accept-btn-handler\"]'))\n",
    "\n",
    "cookies_accept.click()"
   ]
  },
  {
   "cell_type": "code",
   "execution_count": 64,
   "metadata": {},
   "outputs": [],
   "source": [
    "#Select all the elements that have the expand-review\n",
    "def expand_reviews(browser):\n",
    "    expand = browser.find_element('xpath',\".//div[contains(@data-test-target,'expand-review')]\")\n",
    "    if expand:\n",
    "        expand.click()"
   ]
  },
  {
   "cell_type": "code",
   "execution_count": 65,
   "metadata": {},
   "outputs": [
    {
     "data": {
      "text/plain": [
       "[<selenium.webdriver.remote.webelement.WebElement (session=\"1b4bca61530a46b79a7ff4652329b0c6\", element=\"72394D6F0A4A34E46E9423AD3452BBA5_element_50\")>,\n",
       " <selenium.webdriver.remote.webelement.WebElement (session=\"1b4bca61530a46b79a7ff4652329b0c6\", element=\"72394D6F0A4A34E46E9423AD3452BBA5_element_51\")>,\n",
       " <selenium.webdriver.remote.webelement.WebElement (session=\"1b4bca61530a46b79a7ff4652329b0c6\", element=\"72394D6F0A4A34E46E9423AD3452BBA5_element_52\")>,\n",
       " <selenium.webdriver.remote.webelement.WebElement (session=\"1b4bca61530a46b79a7ff4652329b0c6\", element=\"72394D6F0A4A34E46E9423AD3452BBA5_element_53\")>,\n",
       " <selenium.webdriver.remote.webelement.WebElement (session=\"1b4bca61530a46b79a7ff4652329b0c6\", element=\"72394D6F0A4A34E46E9423AD3452BBA5_element_54\")>,\n",
       " <selenium.webdriver.remote.webelement.WebElement (session=\"1b4bca61530a46b79a7ff4652329b0c6\", element=\"72394D6F0A4A34E46E9423AD3452BBA5_element_55\")>,\n",
       " <selenium.webdriver.remote.webelement.WebElement (session=\"1b4bca61530a46b79a7ff4652329b0c6\", element=\"72394D6F0A4A34E46E9423AD3452BBA5_element_56\")>,\n",
       " <selenium.webdriver.remote.webelement.WebElement (session=\"1b4bca61530a46b79a7ff4652329b0c6\", element=\"72394D6F0A4A34E46E9423AD3452BBA5_element_57\")>,\n",
       " <selenium.webdriver.remote.webelement.WebElement (session=\"1b4bca61530a46b79a7ff4652329b0c6\", element=\"72394D6F0A4A34E46E9423AD3452BBA5_element_58\")>,\n",
       " <selenium.webdriver.remote.webelement.WebElement (session=\"1b4bca61530a46b79a7ff4652329b0c6\", element=\"72394D6F0A4A34E46E9423AD3452BBA5_element_59\")>]"
      ]
     },
     "execution_count": 65,
     "metadata": {},
     "output_type": "execute_result"
    }
   ],
   "source": [
    "#expand all the page's reviews \n",
    "\n",
    "reviews = browser.find_elements('xpath',\".//div[@data-reviewid]\")\n",
    "reviews"
   ]
  },
  {
   "cell_type": "code",
   "execution_count": 66,
   "metadata": {},
   "outputs": [],
   "source": [
    "try:\n",
    "    with open('ArmaniHotelReviews.csv','w',encoding = \"utf-8\") as csvFile:\n",
    "        csvWriter = csv.writer(csvFile)\n",
    "\n",
    "        for i in  range(10): #loop 10 pages\n",
    "            time.sleep(3)\n",
    "\n",
    "            expand_reviews(browser)\n",
    "            reviews = browser.find_elements('xpath',\".//div[@data-reviewid]\")\n",
    "            for review in reviews:\n",
    "                bubble_rating = review.find_element('xpath',\".//span[contains(@class,'ui_bubble_rating bubble_')]\")\n",
    "                score = bubble_rating.get_attribute(\"class\").split(\"_\")[3]\n",
    "\n",
    "                date_obj = review.find_element('xpath',\".//span[@class='teHYY _R Me S4 H3']\")\n",
    "                date_rec = date_obj.text.replace(\"Date of stay: \",'')\n",
    "                date = datetime.strptime(date_rec,\"%B %Y\")\n",
    "\n",
    "                title = review.find_element('xpath',\".//div[contains(@data-test-target, 'review-title')]\").text\n",
    "\n",
    "                comment = review.find_element('xpath',\".//span[@class='QewHA H4 _a']\").text.replace(\"\\n\",\" \")\n",
    "                \n",
    "                csvWriter.writerow([score,date.year,date.month,title,comment])\n",
    " \n",
    "            browser.find_element('xpath','.//a[@class=\"ui_button nav next primary \"]').click()\n",
    "finally:\n",
    "    browser.quit()\n"
   ]
  },
  {
   "cell_type": "code",
   "execution_count": null,
   "metadata": {},
   "outputs": [],
   "source": []
  },
  {
   "cell_type": "code",
   "execution_count": null,
   "metadata": {},
   "outputs": [],
   "source": []
  }
 ],
 "metadata": {
  "kernelspec": {
   "display_name": "Python 3",
   "language": "python",
   "name": "python3"
  },
  "language_info": {
   "codemirror_mode": {
    "name": "ipython",
    "version": 3
   },
   "file_extension": ".py",
   "mimetype": "text/x-python",
   "name": "python",
   "nbconvert_exporter": "python",
   "pygments_lexer": "ipython3",
   "version": "3.10.11"
  },
  "orig_nbformat": 4
 },
 "nbformat": 4,
 "nbformat_minor": 2
}
