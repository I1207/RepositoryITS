{
 "cells": [
  {
   "cell_type": "code",
   "execution_count": 50,
   "metadata": {},
   "outputs": [],
   "source": [
    "from selenium import webdriver\n",
    "from selenium.webdriver.edge.service import Service\n",
    "from webdriver_manager.microsoft import EdgeChromiumDriverManager\n",
    "from selenium.webdriver.support.wait import WebDriverWait\n",
    "\n",
    "from datetime import datetime\n",
    "import time\n",
    "import csv"
   ]
  },
  {
   "cell_type": "code",
   "execution_count": 51,
   "metadata": {},
   "outputs": [],
   "source": [
    "#get browser, maximise window, open web page\n",
    "\n",
    "browser = webdriver.Edge(service=Service(EdgeChromiumDriverManager().install()))\n",
    "browser.maximize_window()\n",
    "\n",
    "browser.get('https://www.tripadvisor.com/Hotel_Review-g187849-d2340336-Reviews-Armani_Hotel-Milan_Lombardy.html')"
   ]
  },
  {
   "cell_type": "code",
   "execution_count": 52,
   "metadata": {},
   "outputs": [],
   "source": [
    "#waiting timeout 3 seconds for cookies button,find lambda expression equal to id inside HTML code, then click\n",
    "\n",
    "cookies_wait = WebDriverWait(browser,timeout= 3)\n",
    "#browser.find_element()\n",
    "cookies_accept = cookies_wait.until(lambda b: b.find_element('xpath', '//*[@id=\"onetrust-accept-btn-handler\"]'))\n",
    "\n",
    "cookies_accept.click()"
   ]
  },
  {
   "cell_type": "code",
   "execution_count": 53,
   "metadata": {},
   "outputs": [],
   "source": [
    "expand = browser.find_element('xpath',\".//div[contains(@data-test-target,'expand-review')]\")\n",
    "if expand:\n",
    "    expand.click()"
   ]
  },
  {
   "cell_type": "code",
   "execution_count": 54,
   "metadata": {},
   "outputs": [
    {
     "data": {
      "text/plain": [
       "[<selenium.webdriver.remote.webelement.WebElement (session=\"a6ef69e5d3bc251ddef87359e83d780e\", element=\"C0013296B2967053BCE383D3E9980E7E_element_57\")>,\n",
       " <selenium.webdriver.remote.webelement.WebElement (session=\"a6ef69e5d3bc251ddef87359e83d780e\", element=\"C0013296B2967053BCE383D3E9980E7E_element_58\")>,\n",
       " <selenium.webdriver.remote.webelement.WebElement (session=\"a6ef69e5d3bc251ddef87359e83d780e\", element=\"C0013296B2967053BCE383D3E9980E7E_element_59\")>,\n",
       " <selenium.webdriver.remote.webelement.WebElement (session=\"a6ef69e5d3bc251ddef87359e83d780e\", element=\"C0013296B2967053BCE383D3E9980E7E_element_60\")>,\n",
       " <selenium.webdriver.remote.webelement.WebElement (session=\"a6ef69e5d3bc251ddef87359e83d780e\", element=\"C0013296B2967053BCE383D3E9980E7E_element_61\")>,\n",
       " <selenium.webdriver.remote.webelement.WebElement (session=\"a6ef69e5d3bc251ddef87359e83d780e\", element=\"C0013296B2967053BCE383D3E9980E7E_element_62\")>,\n",
       " <selenium.webdriver.remote.webelement.WebElement (session=\"a6ef69e5d3bc251ddef87359e83d780e\", element=\"C0013296B2967053BCE383D3E9980E7E_element_63\")>,\n",
       " <selenium.webdriver.remote.webelement.WebElement (session=\"a6ef69e5d3bc251ddef87359e83d780e\", element=\"C0013296B2967053BCE383D3E9980E7E_element_64\")>,\n",
       " <selenium.webdriver.remote.webelement.WebElement (session=\"a6ef69e5d3bc251ddef87359e83d780e\", element=\"C0013296B2967053BCE383D3E9980E7E_element_65\")>,\n",
       " <selenium.webdriver.remote.webelement.WebElement (session=\"a6ef69e5d3bc251ddef87359e83d780e\", element=\"C0013296B2967053BCE383D3E9980E7E_element_66\")>]"
      ]
     },
     "execution_count": 54,
     "metadata": {},
     "output_type": "execute_result"
    }
   ],
   "source": [
    "reviews = browser.find_elements('xpath',\".//div[@data-reviewid]\")\n",
    "reviews"
   ]
  },
  {
   "cell_type": "code",
   "execution_count": 57,
   "metadata": {},
   "outputs": [],
   "source": [
    "\n",
    "with open('ArmaniHotelReviews.csv','w',encoding = \"utf-8\") as csvFile:\n",
    "    csvWriter = csv.writer(csvFile)\n",
    "\n",
    "    for i in  range(10): #loop 10 pages\n",
    "        time.sleep(2)\n",
    "\n",
    "        for review in reviews:\n",
    "            bubble_rating = review.find_element('xpath',\".//span[contains(@class,'ui_bubble_rating bubble_')]\")\n",
    "            score = bubble_rating.get_attribute(\"class\").split(\"_\")[3]\n",
    "\n",
    "            date_obj = review.find_element('xpath',\".//span[@class='teHYY _R Me S4 H3']\")\n",
    "            date_rec = date_obj.text.replace(\"Date of stay: \",'')\n",
    "            date = datetime.strptime(date_rec,\"%B %Y\")\n",
    "\n",
    "            title = review.find_element('xpath',\".//div[contains(@data-test-target, 'review-title')]\").text\n",
    "\n",
    "            comment = review.find_element('xpath',\".//span[@class='QewHA H4 _a']\").text.replace(\"\\n\",\" \")\n",
    "            \n",
    "            csvWriter.writerow([score,date.year,date.month,title,comment])\n",
    "    \n",
    "    browser.find_element('xpath','.//a[@class=\"ui_button nav next primary \"]').click()\n"
   ]
  },
  {
   "cell_type": "code",
   "execution_count": null,
   "metadata": {},
   "outputs": [],
   "source": []
  },
  {
   "cell_type": "code",
   "execution_count": null,
   "metadata": {},
   "outputs": [],
   "source": []
  }
 ],
 "metadata": {
  "kernelspec": {
   "display_name": "Python 3",
   "language": "python",
   "name": "python3"
  },
  "language_info": {
   "codemirror_mode": {
    "name": "ipython",
    "version": 3
   },
   "file_extension": ".py",
   "mimetype": "text/x-python",
   "name": "python",
   "nbconvert_exporter": "python",
   "pygments_lexer": "ipython3",
   "version": "3.10.11"
  },
  "orig_nbformat": 4
 },
 "nbformat": 4,
 "nbformat_minor": 2
}
