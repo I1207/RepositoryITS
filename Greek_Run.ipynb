{
 "cells": [
  {
   "cell_type": "markdown",
   "metadata": {},
   "source": [
    "## Greek run"
   ]
  },
  {
   "cell_type": "markdown",
   "metadata": {},
   "source": [
    "In this exercise you will use numpy and matplotlib to simulate the greek run. The greek run works as follows:\n",
    "- There are 5 players(1,2,3,4,5) at positions 0,20,40,60,80\n",
    "- Players 1,2,3,4 are moving towards the right and player 5 is moving towards the left\n",
    "- If 2 players meet they both switch directions they are running\n",
    "- If a player's position is below 0 or above 100, they are safe\n",
    "- The last player to exit looses\n",
    "\n",
    "Which player looses?"
   ]
  },
  {
   "cell_type": "code",
   "execution_count": 22,
   "metadata": {},
   "outputs": [],
   "source": [
    "import matplotlib.pyplot as plt\n",
    "import time\n",
    "import numpy as np\n",
    "from IPython import display"
   ]
  },
  {
   "cell_type": "code",
   "execution_count": 26,
   "metadata": {},
   "outputs": [
    {
     "name": "stdout",
     "output_type": "stream",
     "text": [
      "Total steps: 0\n"
     ]
    },
    {
     "data": {
      "image/png": "[encoded data removed]",
      "text/plain": [
       "<Figure size 640x480 with 1 Axes>"
      ]
     },
     "metadata": {},
     "output_type": "display_data"
    }
   ],
   "source": [
    "# Step 1\n",
    "# - Create the line with the correct positions \n",
    "# - Assign a True if the player is still playing to each player\n",
    "# - Assign a direction to each player\n",
    "# - Using for x in zip(posizioni,direction,colors,markers): , plot the initial positions\n",
    "\n",
    "posizioni= np.array([0,20,40,60,80])\n",
    "play= np.array([True,True,True,True,True])\n",
    "direction= [+1,+1,+1,+1,-1]   \n",
    "colors= ['r','b','g','m','y']\n",
    "markers= ['*','o','v','P','s']\n",
    "\n",
    "fig=plt.figure();\n",
    "ax = fig.add_axes([0, 0, 1, 1]);\n",
    "fig.suptitle('Greek Run',fontsize=14)\n",
    "\n",
    "for x in zip(posizioni,direction,colors,markers):\n",
    "    ax.plot(x[0],0,color = x[2], marker = x[3])\n",
    "    \n",
    "  \n",
    "display.clear_output(wait=True)\n",
    "display.display(plt.gcf())\n",
    "time.sleep(1.0)\n",
    "\n",
    "# Step 2\n",
    "# - create a variable \"step\" to count the number of steps in which the game is completed\n",
    "step = 0\n",
    "\n",
    "# - start a while loop which runs as long as there is only 1 player left in the game\n",
    "while len(play[play == True]) >1:\n",
    "# - add a step in the correct direction to each player\n",
    "    for i in range(len(posizioni)):\n",
    "\n",
    "        for j in range (i+1,len(posizioni)):\n",
    "            \n",
    "# - Check if some players have met, if they did, change their direction\n",
    "            if posizioni[i] == posizioni[j] :\n",
    "                direction[i] *= (-1)\n",
    "                direction[j] *= (-1)\n",
    "# - Check whether any players are out of the game\n",
    "        if not 0<posizioni[i] <100:\n",
    "            play[i] = False\n",
    "        if play[i] == True:\n",
    "            posizioni[i] += direction[i]\n",
    "\n",
    "# Step 3\n",
    "# - use ax.clear() to clear the plot\n",
    "    ax.clear()\n",
    "\n",
    "# - Plot the new positions using the code from step 1\n",
    "\n",
    "    for x in zip(posizioni,direction,colors,markers):\n",
    "        ax.plot(x[0],0,color = x[2], marker = x[3])\n",
    "        ax.grid()\n",
    "        ax.set_xlim(0,100)\n",
    "        ax.set_ylim(-.2,.2)\n",
    "        ax.set_yticks([0])\n",
    "        ax.set_yticklabels(['Running Line'])\n",
    "\n",
    "    display.clear_output(wait=True)\n",
    "    display.display(plt.gcf())\n",
    "    time.sleep(0.2)\n",
    "   \n",
    "display.clear_output()\n",
    "display.display(plt.gcf())\n",
    "display.clear_output()\n",
    "\n",
    "\n",
    "# Step 4\n",
    "# - Count the remaining steps for the last player\n",
    "# - calculate the total number of steps\n",
    "# - print the total amount of steps.\n",
    "\n",
    "\n",
    "total_steps = 0 \n",
    "\n",
    "# Start a while loop which runs as long as there is only 1 player left in the game\n",
    "while len(play[play == True]) > 1:\n",
    "    # Add a step in the correct direction to each player\n",
    "    for i in range(len(posizioni)):\n",
    "        for j in range(i + 1, len(posizioni)):\n",
    "            # Check if some players have met, if they did, change their direction\n",
    "            if posizioni[i] == posizioni[j]:\n",
    "                direction[i] *= (-1)\n",
    "                direction[j] *= (-1)\n",
    "        \n",
    "        # Check whether any players are out of the game\n",
    "        if not 0 < posizioni[i] < 100:\n",
    "            play[i] = False\n",
    "        if play[i] == True:\n",
    "            posizioni[i] += direction[i]\n",
    "    \n",
    "    # Increment the total steps\n",
    "    total_steps += 1\n",
    "\n",
    "# Count the remaining steps for the last player\n",
    "    remaining_steps = total_steps\n",
    "\n",
    "# Calculate the total number of steps\n",
    "    total_steps += remaining_steps\n",
    "\n",
    "# Print the total amount of steps\n",
    "print(\"Total steps:\", total_steps)\n",
    "\n"
   ]
  }
 ],
 "metadata": {
  "kernelspec": {
   "display_name": "Python 3",
   "language": "python",
   "name": "python3"
  },
  "language_info": {
   "codemirror_mode": {
    "name": "ipython",
    "version": 3
   },
   "file_extension": ".py",
   "mimetype": "text/x-python",
   "name": "python",
   "nbconvert_exporter": "python",
   "pygments_lexer": "ipython3",
   "version": "3.10.11"
  },
  "orig_nbformat": 4,
  "vscode": {
   "interpreter": {
    "hash": "1fd029fbb5b2e44f8a767569eea9cd89c6bfa0accdc56e4744e5cc4b4508288e"
   }
  }
 },
 "nbformat": 4,
 "nbformat_minor": 2
}
